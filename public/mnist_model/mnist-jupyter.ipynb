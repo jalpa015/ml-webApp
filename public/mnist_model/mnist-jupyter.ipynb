{
 "cells": [
  {
   "cell_type": "code",
   "execution_count": 1,
   "metadata": {},
   "outputs": [],
   "source": [
    "from tensorflow import keras\n",
    "import numpy as np\n",
    "from tensorflow.keras.datasets import mnist\n",
    "import matplotlib.pyplot as plt"
   ]
  },
  {
   "cell_type": "code",
   "execution_count": 2,
   "metadata": {},
   "outputs": [],
   "source": [
    "(X_train, y_train), (X_test, y_test) = mnist.load_data()"
   ]
  },
  {
   "cell_type": "code",
   "execution_count": 3,
   "metadata": {},
   "outputs": [
    {
     "data": {
      "image/png": "[encoded data removed]",
      "text/plain": [
       "<Figure size 640x480 with 5 Axes>"
      ]
     },
     "metadata": {},
     "output_type": "display_data"
    }
   ],
   "source": [
    "plt.subplot(151)\n",
    "plt.imshow(X_train[0], cmap=plt.get_cmap('gray'))\n",
    "plt.subplot(152)\n",
    "plt.imshow(X_train[1], cmap=plt.get_cmap('gray'))\n",
    "plt.subplot(153)\n",
    "plt.imshow(X_train[2], cmap=plt.get_cmap('gray'))\n",
    "plt.subplot(154)\n",
    "plt.imshow(X_train[3], cmap=plt.get_cmap('gray'))\n",
    "plt.subplot(155)\n",
    "plt.imshow(X_train[9], cmap=plt.get_cmap('gray'))\n",
    "\n",
    "plt.show()"
   ]
  },
  {
   "cell_type": "code",
   "execution_count": 4,
   "metadata": {},
   "outputs": [
    {
     "data": {
      "text/plain": [
       "(60000, 28, 28)"
      ]
     },
     "execution_count": 4,
     "metadata": {},
     "output_type": "execute_result"
    }
   ],
   "source": [
    "X_train.shape"
   ]
  },
  {
   "cell_type": "code",
   "execution_count": 5,
   "metadata": {},
   "outputs": [
    {
     "name": "stdout",
     "output_type": "stream",
     "text": [
      "Epoch 1/10\n",
      "300/300 - 15s - loss: 0.3817 - accuracy: 0.8875 - val_loss: 0.0807 - val_accuracy: 0.9751 - 15s/epoch - 50ms/step\n",
      "Epoch 2/10\n",
      "300/300 - 14s - loss: 0.0929 - accuracy: 0.9720 - val_loss: 0.0492 - val_accuracy: 0.9837 - 14s/epoch - 46ms/step\n",
      "Epoch 3/10\n",
      "300/300 - 15s - loss: 0.0668 - accuracy: 0.9789 - val_loss: 0.0368 - val_accuracy: 0.9875 - 15s/epoch - 49ms/step\n",
      "Epoch 4/10\n",
      "300/300 - 15s - loss: 0.0551 - accuracy: 0.9822 - val_loss: 0.0324 - val_accuracy: 0.9891 - 15s/epoch - 49ms/step\n",
      "Epoch 5/10\n",
      "300/300 - 15s - loss: 0.0475 - accuracy: 0.9852 - val_loss: 0.0304 - val_accuracy: 0.9904 - 15s/epoch - 50ms/step\n",
      "Epoch 6/10\n",
      "300/300 - 15s - loss: 0.0419 - accuracy: 0.9868 - val_loss: 0.0274 - val_accuracy: 0.9914 - 15s/epoch - 50ms/step\n",
      "Epoch 7/10\n",
      "300/300 - 14s - loss: 0.0377 - accuracy: 0.9882 - val_loss: 0.0267 - val_accuracy: 0.9909 - 14s/epoch - 47ms/step\n",
      "Epoch 8/10\n",
      "300/300 - 16s - loss: 0.0349 - accuracy: 0.9889 - val_loss: 0.0247 - val_accuracy: 0.9925 - 16s/epoch - 52ms/step\n",
      "Epoch 9/10\n",
      "300/300 - 16s - loss: 0.0311 - accuracy: 0.9898 - val_loss: 0.0229 - val_accuracy: 0.9936 - 16s/epoch - 54ms/step\n",
      "Epoch 10/10\n",
      "300/300 - 15s - loss: 0.0290 - accuracy: 0.9906 - val_loss: 0.0220 - val_accuracy: 0.9936 - 15s/epoch - 50ms/step\n",
      "Baseline Error: 0.64%\n"
     ]
    }
   ],
   "source": [
    "from tensorflow.keras.models import Sequential\n",
    "from tensorflow.keras.layers import Dense\n",
    "from tensorflow.keras.layers import Dropout\n",
    "from tensorflow.keras.layers import Conv2D\n",
    "from tensorflow.keras.layers import MaxPooling2D\n",
    "from tensorflow.keras.layers import Dropout\n",
    "from tensorflow.keras.layers import Flatten\n",
    "from keras.utils import np_utils\n",
    "\n",
    "# flatten 28*28 images to a 784 vector for each image\n",
    "num_pixels = X_train.shape[1] * X_train.shape[2]\n",
    "# X_train = X_train.reshape(X_train.shape[0], num_pixels).astype('float32')\n",
    "# X_test = X_test.reshape(X_test.shape[0], num_pixels).astype('float32')\n",
    "X_train = X_train.reshape((X_train.shape[0], 28, 28, 1)).astype('float32')\n",
    "X_test = X_test.reshape((X_test.shape[0], 28, 28, 1)).astype('float32')\n",
    "\n",
    "# normalize inputs from 0-255 to 0-1\n",
    "X_train = X_train / 255\n",
    "X_test = X_test / 255\n",
    "\n",
    "# one hot encode outputs\n",
    "y_train = np_utils.to_categorical(y_train)\n",
    "y_test = np_utils.to_categorical(y_test)\n",
    "num_classes = y_test.shape[1]\n",
    "\n",
    "model = Sequential()\n",
    "\n",
    "# model.add(Dense(num_pixels, input_dim=num_pixels, activation='relu'))\n",
    "# model.add(Dense(num_classes, activation='softmax'))\n",
    "\n",
    "model.add(Conv2D(30, (5, 5), input_shape=(28, 28, 1), activation='relu'))\n",
    "model.add(MaxPooling2D())\n",
    "model.add(Conv2D(15, (3, 3), activation='relu'))\n",
    "model.add(MaxPooling2D())\n",
    "model.add(Dropout(0.2))\n",
    "model.add(Flatten())\n",
    "model.add(Dense(128, activation='relu'))\n",
    "model.add(Dense(50, activation='relu'))\n",
    "model.add(Dense(num_classes, activation='softmax'))\n",
    "\n",
    "model.compile(loss='categorical_crossentropy', optimizer='adam', metrics=['accuracy'])\n",
    "\n",
    "model.fit(X_train, y_train, validation_data=(X_test, y_test), epochs=10, batch_size=200, verbose=2)\n",
    "\n",
    "scores = model.evaluate(X_test, y_test, verbose=0)\n",
    "print(\"Baseline Error: %.2f%%\" % (100-scores[1]*100))"
   ]
  },
  {
   "cell_type": "code",
   "execution_count": 6,
   "metadata": {},
   "outputs": [],
   "source": [
    "import tensorflowjs as tfjs\n",
    "tfjs.converters.save_keras_model(model, \"mnist_model\")"
   ]
  }
 ],
 "metadata": {
  "kernelspec": {
   "display_name": "Python 3.7.7 ('venv': venv)",
   "language": "python",
   "name": "python3"
  },
  "language_info": {
   "codemirror_mode": {
    "name": "ipython",
    "version": 3
   },
   "file_extension": ".py",
   "mimetype": "text/x-python",
   "name": "python",
   "nbconvert_exporter": "python",
   "pygments_lexer": "ipython3",
   "version": "3.7.7"
  },
  "orig_nbformat": 4,
  "vscode": {
   "interpreter": {
    "hash": "33961c129ae9aa37e62c62f6d77e607978892ea28953afb44f88ffe083783681"
   }
  }
 },
 "nbformat": 4,
 "nbformat_minor": 2
}
